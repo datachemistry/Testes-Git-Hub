{
 "cells": [
  {
   "cell_type": "markdown",
   "metadata": {},
   "source": [
    "fkgfgksm~gkmsd~gmsdfg\n",
    "\n",
    "s\n",
    "dfg\n",
    "dg\n",
    "sdf\n",
    "gs\n",
    "dfg\n",
    "sdfg\n",
    "dfs\n",
    "\n",
    "\n",
    "df\n",
    "asdf\n",
    "as\n",
    "fas\n",
    "f\n",
    "asf\n",
    "asf\n",
    "aws\n",
    "f\n",
    "asf\n",
    "\n",
    "g"
   ]
  },
  {
   "cell_type": "code",
   "execution_count": null,
   "metadata": {},
   "outputs": [],
   "source": [
    "dffgsdfgsdfdg"
   ]
  },
  {
   "cell_type": "code",
   "execution_count": null,
   "metadata": {},
   "outputs": [],
   "source": [
    "sdfgsdgdsg"
   ]
  },
  {
   "cell_type": "code",
   "execution_count": null,
   "metadata": {},
   "outputs": [],
   "source": [
    "sdgsdgsdgdfg"
   ]
  }
 ],
 "metadata": {
  "kernelspec": {
   "display_name": "Python 3",
   "language": "python",
   "name": "python3"
  },
  "language_info": {
   "codemirror_mode": {
    "name": "ipython",
    "version": 3
   },
   "file_extension": ".py",
   "mimetype": "text/x-python",
   "name": "python",
   "nbconvert_exporter": "python",
   "pygments_lexer": "ipython3",
   "version": "3.9.1"
  }
 },
 "nbformat": 4,
 "nbformat_minor": 4
}
